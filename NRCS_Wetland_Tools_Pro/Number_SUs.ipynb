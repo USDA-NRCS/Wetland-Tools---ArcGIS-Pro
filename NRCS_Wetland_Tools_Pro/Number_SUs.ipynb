{
 "cells": [
  {
   "cell_type": "code",
   "execution_count": 1,
   "metadata": {},
   "outputs": [],
   "source": [
    "sun = r'C:\\GIS_Tools\\NRCS_Wetland_Tools_Pro\\SUPPORT\\Conversions.gdb\\sampling_units'\n",
    "sud = r'C:\\GIS_Tools\\NRCS_Wetland_Tools_Pro\\SUPPORT\\Conversions.gdb\\sampling_units_dissolve'\n",
    "\n",
    "sud_cursor = arcpy.da.SearchCursor(sud, '*')\n",
    "for row in sud_cursor:\n",
    "    x = 1\n",
    "    state = row[2]\n",
    "    county = row[3]\n",
    "    tract = row[4]\n",
    "    field1 = 'admin_state'\n",
    "    field2 = 'admin_county'\n",
    "    field3 = 'tract_number'\n",
    "    field4 = 'su_number'\n",
    "    field_names = [field1, field2, field3, field4]\n",
    "    expression = \"{} = '{}'\".format(arcpy.AddFieldDelimiters(sun,field1), state) + \" AND \" + \"{} = '{}'\".format(arcpy.AddFieldDelimiters(sun,field2), county) + \" AND \" + \"{} = '{}'\".format(arcpy.AddFieldDelimiters(sun,field3), tract)\n",
    "    sun_cursor = arcpy.da.UpdateCursor(sun, field_names, where_clause = expression)\n",
    "    for srow in sun_cursor:\n",
    "        srow[3] = x\n",
    "        x += 1\n",
    "        sun_cursor.updateRow(srow)\n",
    "        "
   ]
  },
  {
   "cell_type": "code",
   "execution_count": null,
   "metadata": {},
   "outputs": [],
   "source": []
  }
 ],
 "metadata": {
  "kernelspec": {
   "display_name": "ArcGISPro",
   "language": "Python",
   "name": "python3"
  },
  "language_info": {
   "file_extension": ".py",
   "name": "python",
   "version": "3"
  }
 },
 "nbformat": 4,
 "nbformat_minor": 2
}
