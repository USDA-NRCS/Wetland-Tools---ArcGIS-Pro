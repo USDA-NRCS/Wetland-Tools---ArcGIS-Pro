{
 "cells": [
  {
   "cell_type": "code",
   "execution_count": null,
   "metadata": {},
   "outputs": [],
   "source": [
    "sun = r'C:\\GIS_Tools\\NRCS_Wetland_Tools_Pro\\SUPPORT\\Conversions.gdb\\sampling_units'\n",
    "sud = r'C:\\GIS_Tools\\NRCS_Wetland_Tools_Pro\\SUPPORT\\Conversions.gdb\\sampling_units_dissolve'\n",
    "\n",
    "sud_cursor = arcpy.da.SearchCursor(sud, '*')\n",
    "for row in sud_cursor:\n",
    "    x = 1\n",
    "    state = row[2]\n",
    "    county = row[3]\n",
    "    tract = row[4]\n",
    "    y = row[5]"
   ]
  }
 ],
 "metadata": {
  "kernelspec": {
   "display_name": "ArcGISPro",
   "language": "Python",
   "name": "python3"
  },
  "language_info": {
   "file_extension": ".py",
   "name": "python",
   "version": "3"
  }
 },
 "nbformat": 4,
 "nbformat_minor": 2
}
